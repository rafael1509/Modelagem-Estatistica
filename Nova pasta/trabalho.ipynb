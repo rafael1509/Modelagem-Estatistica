{
 "cells": [
  {
   "cell_type": "code",
   "execution_count": 26,
   "metadata": {},
   "outputs": [
    {
     "name": "stdout",
     "output_type": "stream",
     "text": [
      "Requirement already satisfied: pandas in c:\\users\\rafae\\appdata\\local\\packages\\pythonsoftwarefoundation.python.3.10_qbz5n2kfra8p0\\localcache\\local-packages\\python310\\site-packages (2.2.2)\n",
      "Requirement already satisfied: pytz>=2020.1 in c:\\users\\rafae\\appdata\\local\\packages\\pythonsoftwarefoundation.python.3.10_qbz5n2kfra8p0\\localcache\\local-packages\\python310\\site-packages (from pandas) (2024.1)\n",
      "Requirement already satisfied: python-dateutil>=2.8.2 in c:\\users\\rafae\\appdata\\local\\packages\\pythonsoftwarefoundation.python.3.10_qbz5n2kfra8p0\\localcache\\local-packages\\python310\\site-packages (from pandas) (2.8.2)\n",
      "Requirement already satisfied: tzdata>=2022.7 in c:\\users\\rafae\\appdata\\local\\packages\\pythonsoftwarefoundation.python.3.10_qbz5n2kfra8p0\\localcache\\local-packages\\python310\\site-packages (from pandas) (2024.1)\n",
      "Requirement already satisfied: numpy>=1.22.4 in c:\\users\\rafae\\appdata\\local\\packages\\pythonsoftwarefoundation.python.3.10_qbz5n2kfra8p0\\localcache\\local-packages\\python310\\site-packages (from pandas) (1.23.4)\n",
      "Requirement already satisfied: six>=1.5 in c:\\users\\rafae\\appdata\\local\\packages\\pythonsoftwarefoundation.python.3.10_qbz5n2kfra8p0\\localcache\\local-packages\\python310\\site-packages (from python-dateutil>=2.8.2->pandas) (1.16.0)\n"
     ]
    },
    {
     "name": "stderr",
     "output_type": "stream",
     "text": [
      "\n",
      "[notice] A new release of pip available: 22.3 -> 24.0\n",
      "[notice] To update, run: C:\\Users\\rafae\\AppData\\Local\\Microsoft\\WindowsApps\\PythonSoftwareFoundation.Python.3.10_qbz5n2kfra8p0\\python.exe -m pip install --upgrade pip\n"
     ]
    },
    {
     "name": "stdout",
     "output_type": "stream",
     "text": [
      "Requirement already satisfied: seaborn in c:\\users\\rafae\\appdata\\local\\packages\\pythonsoftwarefoundation.python.3.10_qbz5n2kfra8p0\\localcache\\local-packages\\python310\\site-packages (0.13.2)\n",
      "Requirement already satisfied: pandas>=1.2 in c:\\users\\rafae\\appdata\\local\\packages\\pythonsoftwarefoundation.python.3.10_qbz5n2kfra8p0\\localcache\\local-packages\\python310\\site-packages (from seaborn) (2.2.2)\n",
      "Requirement already satisfied: numpy!=1.24.0,>=1.20 in c:\\users\\rafae\\appdata\\local\\packages\\pythonsoftwarefoundation.python.3.10_qbz5n2kfra8p0\\localcache\\local-packages\\python310\\site-packages (from seaborn) (1.23.4)\n",
      "Requirement already satisfied: matplotlib!=3.6.1,>=3.4 in c:\\users\\rafae\\appdata\\local\\packages\\pythonsoftwarefoundation.python.3.10_qbz5n2kfra8p0\\localcache\\local-packages\\python310\\site-packages (from seaborn) (3.9.0)\n",
      "Requirement already satisfied: contourpy>=1.0.1 in c:\\users\\rafae\\appdata\\local\\packages\\pythonsoftwarefoundation.python.3.10_qbz5n2kfra8p0\\localcache\\local-packages\\python310\\site-packages (from matplotlib!=3.6.1,>=3.4->seaborn) (1.2.1)\n",
      "Requirement already satisfied: kiwisolver>=1.3.1 in c:\\users\\rafae\\appdata\\local\\packages\\pythonsoftwarefoundation.python.3.10_qbz5n2kfra8p0\\localcache\\local-packages\\python310\\site-packages (from matplotlib!=3.6.1,>=3.4->seaborn) (1.4.5)\n",
      "Requirement already satisfied: packaging>=20.0 in c:\\users\\rafae\\appdata\\local\\packages\\pythonsoftwarefoundation.python.3.10_qbz5n2kfra8p0\\localcache\\local-packages\\python310\\site-packages (from matplotlib!=3.6.1,>=3.4->seaborn) (23.1)\n",
      "Requirement already satisfied: pyparsing>=2.3.1 in c:\\users\\rafae\\appdata\\local\\packages\\pythonsoftwarefoundation.python.3.10_qbz5n2kfra8p0\\localcache\\local-packages\\python310\\site-packages (from matplotlib!=3.6.1,>=3.4->seaborn) (3.1.2)\n",
      "Requirement already satisfied: cycler>=0.10 in c:\\users\\rafae\\appdata\\local\\packages\\pythonsoftwarefoundation.python.3.10_qbz5n2kfra8p0\\localcache\\local-packages\\python310\\site-packages (from matplotlib!=3.6.1,>=3.4->seaborn) (0.12.1)\n",
      "Requirement already satisfied: python-dateutil>=2.7 in c:\\users\\rafae\\appdata\\local\\packages\\pythonsoftwarefoundation.python.3.10_qbz5n2kfra8p0\\localcache\\local-packages\\python310\\site-packages (from matplotlib!=3.6.1,>=3.4->seaborn) (2.8.2)\n",
      "Requirement already satisfied: fonttools>=4.22.0 in c:\\users\\rafae\\appdata\\local\\packages\\pythonsoftwarefoundation.python.3.10_qbz5n2kfra8p0\\localcache\\local-packages\\python310\\site-packages (from matplotlib!=3.6.1,>=3.4->seaborn) (4.52.4)\n",
      "Requirement already satisfied: pillow>=8 in c:\\users\\rafae\\appdata\\local\\packages\\pythonsoftwarefoundation.python.3.10_qbz5n2kfra8p0\\localcache\\local-packages\\python310\\site-packages (from matplotlib!=3.6.1,>=3.4->seaborn) (10.3.0)\n",
      "Requirement already satisfied: tzdata>=2022.7 in c:\\users\\rafae\\appdata\\local\\packages\\pythonsoftwarefoundation.python.3.10_qbz5n2kfra8p0\\localcache\\local-packages\\python310\\site-packages (from pandas>=1.2->seaborn) (2024.1)\n",
      "Requirement already satisfied: pytz>=2020.1 in c:\\users\\rafae\\appdata\\local\\packages\\pythonsoftwarefoundation.python.3.10_qbz5n2kfra8p0\\localcache\\local-packages\\python310\\site-packages (from pandas>=1.2->seaborn) (2024.1)\n",
      "Requirement already satisfied: six>=1.5 in c:\\users\\rafae\\appdata\\local\\packages\\pythonsoftwarefoundation.python.3.10_qbz5n2kfra8p0\\localcache\\local-packages\\python310\\site-packages (from python-dateutil>=2.7->matplotlib!=3.6.1,>=3.4->seaborn) (1.16.0)\n"
     ]
    },
    {
     "name": "stderr",
     "output_type": "stream",
     "text": [
      "\n",
      "[notice] A new release of pip available: 22.3 -> 24.0\n",
      "[notice] To update, run: C:\\Users\\rafae\\AppData\\Local\\Microsoft\\WindowsApps\\PythonSoftwareFoundation.Python.3.10_qbz5n2kfra8p0\\python.exe -m pip install --upgrade pip\n",
      "ERROR: Could not find a version that satisfies the requirement matplotlib.pyplot (from versions: none)\n",
      "ERROR: No matching distribution found for matplotlib.pyplot\n",
      "\n",
      "[notice] A new release of pip available: 22.3 -> 24.0\n",
      "[notice] To update, run: C:\\Users\\rafae\\AppData\\Local\\Microsoft\\WindowsApps\\PythonSoftwareFoundation.Python.3.10_qbz5n2kfra8p0\\python.exe -m pip install --upgrade pip\n"
     ]
    }
   ],
   "source": [
    "import sys\n",
    "!{sys.executable} -m pip install pandas\n",
    "!{sys.executable} -m pip install seaborn\n",
    "!{sys.executable} -m pip install matplotlib.pyplot\n",
    "import pandas as pd\n",
    "import seaborn as sns\n",
    "import matplotlib.pyplot as plt"
   ]
  },
  {
   "cell_type": "code",
   "execution_count": 27,
   "metadata": {},
   "outputs": [],
   "source": [
    "df22 = pd.read_csv(r'C:\\Users\\rafae\\OneDrive\\Documentos\\prog\\coding\\modelagem-estatistica\\MICRODADOS_ENEM_2022.csv',  sep=';',encoding='iso-8859-1', usecols=[\"NU_ANO\",\"TP_FAIXA_ETARIA\",\"TP_SEXO\", \"TP_ESTADO_CIVIL\",\n",
    "                                                                                                                          \"TP_COR_RACA\",\"TP_ST_CONCLUSAO\", 'TP_ANO_CONCLUIU', \"TP_ESCOLA\",\n",
    "                                                                                                                          \"NO_MUNICIPIO_PROVA\",\"SG_UF_PROVA\",\n",
    "                                                                                                                          \"NU_NOTA_COMP3\",\n",
    "                                                                                                                          \"Q001\",\"Q002\",\"Q003\",\"Q004\",\"Q005\",\"Q006\",\"Q022\",\"Q025\"]).dropna()"
   ]
  },
  {
   "cell_type": "markdown",
   "metadata": {},
   "source": [
    "Agora, iremos tratar esses dados:"
   ]
  },
  {
   "cell_type": "code",
   "execution_count": 28,
   "metadata": {},
   "outputs": [],
   "source": [
    "# apenas quem nao zerou a competencia 3\n",
    "df22 = df22[df22['NU_NOTA_COMP3']!=0]"
   ]
  },
  {
   "cell_type": "code",
   "execution_count": 29,
   "metadata": {},
   "outputs": [],
   "source": [
    "# apenas quem informou o estado civil\n",
    "df22 = df22[df22['TP_ESTADO_CIVIL']!=0]\n",
    "df22 = pd.get_dummies(df22, columns=['TP_ESTADO_CIVIL'], prefix='TP_ESTADO_CIVIL')"
   ]
  },
  {
   "cell_type": "code",
   "execution_count": 30,
   "metadata": {},
   "outputs": [
    {
     "name": "stderr",
     "output_type": "stream",
     "text": [
      "C:\\Users\\rafae\\AppData\\Local\\Temp\\ipykernel_17488\\1660209483.py:2: FutureWarning: Downcasting behavior in `replace` is deprecated and will be removed in a future version. To retain the old behavior, explicitly call `result.infer_objects(copy=False)`. To opt-in to the future behavior, set `pd.set_option('future.no_silent_downcasting', True)`\n",
      "  df22['TP_SEXO'] = df22['TP_SEXO'].replace('M',1).replace('F',0)\n"
     ]
    }
   ],
   "source": [
    "# Masculino = 1 e Feminino = 0\n",
    "df22['TP_SEXO'] = df22['TP_SEXO'].replace('M',1).replace('F',0)"
   ]
  },
  {
   "cell_type": "code",
   "execution_count": 31,
   "metadata": {},
   "outputs": [],
   "source": [
    "# apenas quem declarou a etnia\n",
    "df22 = df22[df22['TP_COR_RACA']!=0]\n",
    "df22 = pd.get_dummies(df22, columns=['TP_COR_RACA'], prefix='TP_COR_RACA')"
   ]
  },
  {
   "cell_type": "code",
   "execution_count": 32,
   "metadata": {},
   "outputs": [],
   "source": [
    "# Ao invés de usar o nome dos municipios, iremos verificar se o aluno fez a prova em uma capital\n",
    "capitais = [\n",
    "    'Rio Branco', 'Maceió', 'Macapá', 'Manaus', 'Salvador', 'Fortaleza', \n",
    "    'Brasília', 'Vitória', 'Goiânia', 'São Luís', 'Cuiabá', 'Campo Grande', \n",
    "    'Belo Horizonte', 'Belém', 'João Pessoa', 'Curitiba', 'Recife', \n",
    "    'Teresina', 'Rio de Janeiro', 'Natal', 'Porto Alegre', 'Porto Velho', \n",
    "    'Boa Vista', 'Florianópolis', 'São Paulo', 'Aracaju', 'Palmas'\n",
    "]\n",
    "regioes = {\n",
    "    'Norte': ['AC', 'AP', 'AM', 'PA', 'RO', 'RR', 'TO'],\n",
    "    'Nordeste': ['AL', 'BA', 'CE', 'MA', 'PB', 'PE', 'PI', 'RN', 'SE'],\n",
    "    'Centro-Oeste': ['GO', 'MT', 'MS', 'DF'],\n",
    "    'Sudeste': ['ES', 'MG', 'RJ', 'SP'],\n",
    "    'Sul': ['PR', 'RS', 'SC']\n",
    "}\n",
    "df22['CAPITAL'] = df22['NO_MUNICIPIO_PROVA'].apply(lambda x: 1 if x in capitais else 0)\n",
    "df22 = df22.drop('NO_MUNICIPIO_PROVA',axis=1)"
   ]
  },
  {
   "cell_type": "code",
   "execution_count": 33,
   "metadata": {},
   "outputs": [],
   "source": [
    "# iremos usar dummies das regiões do país ao inves do nome dos estados para diminuir o numero de variaveis no modelo\n",
    "def mapear_regiao(uf):\n",
    "    for regiao, ufs in regioes.items():\n",
    "        if uf in ufs:\n",
    "            return regiao\n",
    "    return None\n",
    "df22['Regiao'] = df22['SG_UF_PROVA'].apply(mapear_regiao)\n",
    "\n",
    "df22 = df22.drop('SG_UF_PROVA',axis=1)\n",
    "df22 = pd.get_dummies(df22, columns=['Regiao'], prefix='Regiao')"
   ]
  },
  {
   "cell_type": "code",
   "execution_count": 49,
   "metadata": {},
   "outputs": [
    {
     "name": "stdout",
     "output_type": "stream",
     "text": [
      "faixa_renda_por_pessoa\n",
      "3     324477\n",
      "2     153508\n",
      "4     112267\n",
      "5     106393\n",
      "6      71599\n",
      "1      51775\n",
      "7      42885\n",
      "8      21331\n",
      "9      13751\n",
      "10     13365\n",
      "11      9343\n",
      "12      8770\n",
      "13      2872\n",
      "Name: count, dtype: int64\n"
     ]
    }
   ],
   "source": [
    "# Q005 é sobre quantas pessoas moram na família e Q006 é sobre a renda mensal da familia (soma de cada um dos membros).\n",
    "# Criaremos uma coluna que contabilize a renda per capita familiar\n",
    "\n",
    "# Dicionário com as faixas salariais e seus valores numéricos\n",
    "faixas_salarial = {\n",
    "    'A': 0,\n",
    "    'B': 1212,\n",
    "    'C': 1818,\n",
    "    'D': 2424,\n",
    "    'E': 3030,\n",
    "    'F': 3636,\n",
    "    'G': 4848,\n",
    "    'H': 6060,\n",
    "    'I': 7272,\n",
    "    'J': 8484,\n",
    "    'K': 9696,\n",
    "    'L': 10908,\n",
    "    'M': 12120,\n",
    "    'N': 14544,\n",
    "    'O': 18180,\n",
    "    'P': 24240,\n",
    "    'Q': 24241  # Considerando acima de 24240\n",
    "}\n",
    "\n",
    "novas_faixas_pessoa = {\n",
    "    1: 0,\n",
    "    2: 303,\n",
    "    3: 606,\n",
    "    4: 909,\n",
    "    5: 1212,\n",
    "    6: 1818,\n",
    "    7: 2424,\n",
    "    8: 3030,\n",
    "    9: 3636,\n",
    "    10: 4848,\n",
    "    11: 6060,\n",
    "    12: 9090,\n",
    "    13: 9091, # valores acima de 9091 por pessoa\n",
    "}\n",
    "\n",
    "# Função para calcular a renda por pessoa e encontrar a faixa salarial correspondente\n",
    "def calcular_faixa_renda_por_pessoa(pessoas, renda_familia):\n",
    "    renda_total = faixas_salarial[renda_familia]\n",
    "    renda_por_pessoa = renda_total / pessoas\n",
    "    \n",
    "    # Encontrar a faixa salarial correspondente\n",
    "    for faixa, valor in novas_faixas_pessoa.items():\n",
    "        if renda_por_pessoa <= valor:\n",
    "            return faixa\n",
    "    return 13  # Para renda acima de R$ 9091,00 por pessoa\n",
    "\n",
    "# Aplicar a função para calcular a faixa salarial da renda por pessoa\n",
    "df22['faixa_renda_por_pessoa'] = df22.apply(lambda row: calcular_faixa_renda_por_pessoa(row['Q005'], row['Q006']), axis=1)\n",
    "\n",
    "print(df22['faixa_renda_por_pessoa'].value_counts())\n"
   ]
  },
  {
   "cell_type": "markdown",
   "metadata": {},
   "source": [
    "Analisando os dados, percebi que apenas quem irá concluir o EM em 2022 que informou o tipo de escola que estudou (pública ou privada). Por isso, criei um segundo dataframe para analisar apenas esse grupo. No primeiro dataframe analiasaremos os dois grupos e poderemos ver como o ano de conclusão influencia no nota final."
   ]
  },
  {
   "cell_type": "code",
   "execution_count": 42,
   "metadata": {},
   "outputs": [
    {
     "ename": "KeyError",
     "evalue": "'TP_ST_CONCLUSAO'",
     "output_type": "error",
     "traceback": [
      "\u001b[1;31m---------------------------------------------------------------------------\u001b[0m",
      "\u001b[1;31mKeyError\u001b[0m                                  Traceback (most recent call last)",
      "File \u001b[1;32m~\\AppData\\Local\\Packages\\PythonSoftwareFoundation.Python.3.10_qbz5n2kfra8p0\\LocalCache\\local-packages\\Python310\\site-packages\\pandas\\core\\indexes\\base.py:3805\u001b[0m, in \u001b[0;36mIndex.get_loc\u001b[1;34m(self, key)\u001b[0m\n\u001b[0;32m   3804\u001b[0m \u001b[38;5;28;01mtry\u001b[39;00m:\n\u001b[1;32m-> 3805\u001b[0m     \u001b[38;5;28;01mreturn\u001b[39;00m \u001b[38;5;28;43mself\u001b[39;49m\u001b[38;5;241;43m.\u001b[39;49m\u001b[43m_engine\u001b[49m\u001b[38;5;241;43m.\u001b[39;49m\u001b[43mget_loc\u001b[49m\u001b[43m(\u001b[49m\u001b[43mcasted_key\u001b[49m\u001b[43m)\u001b[49m\n\u001b[0;32m   3806\u001b[0m \u001b[38;5;28;01mexcept\u001b[39;00m \u001b[38;5;167;01mKeyError\u001b[39;00m \u001b[38;5;28;01mas\u001b[39;00m err:\n",
      "File \u001b[1;32mindex.pyx:167\u001b[0m, in \u001b[0;36mpandas._libs.index.IndexEngine.get_loc\u001b[1;34m()\u001b[0m\n",
      "File \u001b[1;32mindex.pyx:196\u001b[0m, in \u001b[0;36mpandas._libs.index.IndexEngine.get_loc\u001b[1;34m()\u001b[0m\n",
      "File \u001b[1;32mpandas\\\\_libs\\\\hashtable_class_helper.pxi:7081\u001b[0m, in \u001b[0;36mpandas._libs.hashtable.PyObjectHashTable.get_item\u001b[1;34m()\u001b[0m\n",
      "File \u001b[1;32mpandas\\\\_libs\\\\hashtable_class_helper.pxi:7089\u001b[0m, in \u001b[0;36mpandas._libs.hashtable.PyObjectHashTable.get_item\u001b[1;34m()\u001b[0m\n",
      "\u001b[1;31mKeyError\u001b[0m: 'TP_ST_CONCLUSAO'",
      "\nThe above exception was the direct cause of the following exception:\n",
      "\u001b[1;31mKeyError\u001b[0m                                  Traceback (most recent call last)",
      "Cell \u001b[1;32mIn[42], line 5\u001b[0m\n\u001b[0;32m      1\u001b[0m \u001b[38;5;66;03m# Apenas quem irá concluir o EM no ano da prova que informou o tipo de escola. \u001b[39;00m\n\u001b[0;32m      2\u001b[0m \u001b[38;5;66;03m# Por isso nesse df analisaremos o impacto do tipo de escola na nota final.\u001b[39;00m\n\u001b[0;32m      3\u001b[0m \u001b[38;5;66;03m# pública = 0 e privada = 1\u001b[39;00m\n\u001b[0;32m      4\u001b[0m df22_2 \u001b[38;5;241m=\u001b[39m df22\u001b[38;5;241m.\u001b[39mcopy()\n\u001b[1;32m----> 5\u001b[0m df22_2 \u001b[38;5;241m=\u001b[39m df22[\u001b[43mdf22\u001b[49m\u001b[43m[\u001b[49m\u001b[38;5;124;43m'\u001b[39;49m\u001b[38;5;124;43mTP_ST_CONCLUSAO\u001b[39;49m\u001b[38;5;124;43m'\u001b[39;49m\u001b[43m]\u001b[49m\u001b[38;5;241m==\u001b[39m\u001b[38;5;241m2\u001b[39m]\n\u001b[0;32m      6\u001b[0m df22_2\u001b[38;5;241m.\u001b[39mloc[:, \u001b[38;5;124m'\u001b[39m\u001b[38;5;124mTP_ESCOLA\u001b[39m\u001b[38;5;124m'\u001b[39m] \u001b[38;5;241m=\u001b[39m df22[\u001b[38;5;124m'\u001b[39m\u001b[38;5;124mTP_ESCOLA\u001b[39m\u001b[38;5;124m'\u001b[39m] \u001b[38;5;241m-\u001b[39m \u001b[38;5;241m2\u001b[39m\n",
      "File \u001b[1;32m~\\AppData\\Local\\Packages\\PythonSoftwareFoundation.Python.3.10_qbz5n2kfra8p0\\LocalCache\\local-packages\\Python310\\site-packages\\pandas\\core\\frame.py:4102\u001b[0m, in \u001b[0;36mDataFrame.__getitem__\u001b[1;34m(self, key)\u001b[0m\n\u001b[0;32m   4100\u001b[0m \u001b[38;5;28;01mif\u001b[39;00m \u001b[38;5;28mself\u001b[39m\u001b[38;5;241m.\u001b[39mcolumns\u001b[38;5;241m.\u001b[39mnlevels \u001b[38;5;241m>\u001b[39m \u001b[38;5;241m1\u001b[39m:\n\u001b[0;32m   4101\u001b[0m     \u001b[38;5;28;01mreturn\u001b[39;00m \u001b[38;5;28mself\u001b[39m\u001b[38;5;241m.\u001b[39m_getitem_multilevel(key)\n\u001b[1;32m-> 4102\u001b[0m indexer \u001b[38;5;241m=\u001b[39m \u001b[38;5;28;43mself\u001b[39;49m\u001b[38;5;241;43m.\u001b[39;49m\u001b[43mcolumns\u001b[49m\u001b[38;5;241;43m.\u001b[39;49m\u001b[43mget_loc\u001b[49m\u001b[43m(\u001b[49m\u001b[43mkey\u001b[49m\u001b[43m)\u001b[49m\n\u001b[0;32m   4103\u001b[0m \u001b[38;5;28;01mif\u001b[39;00m is_integer(indexer):\n\u001b[0;32m   4104\u001b[0m     indexer \u001b[38;5;241m=\u001b[39m [indexer]\n",
      "File \u001b[1;32m~\\AppData\\Local\\Packages\\PythonSoftwareFoundation.Python.3.10_qbz5n2kfra8p0\\LocalCache\\local-packages\\Python310\\site-packages\\pandas\\core\\indexes\\base.py:3812\u001b[0m, in \u001b[0;36mIndex.get_loc\u001b[1;34m(self, key)\u001b[0m\n\u001b[0;32m   3807\u001b[0m     \u001b[38;5;28;01mif\u001b[39;00m \u001b[38;5;28misinstance\u001b[39m(casted_key, \u001b[38;5;28mslice\u001b[39m) \u001b[38;5;129;01mor\u001b[39;00m (\n\u001b[0;32m   3808\u001b[0m         \u001b[38;5;28misinstance\u001b[39m(casted_key, abc\u001b[38;5;241m.\u001b[39mIterable)\n\u001b[0;32m   3809\u001b[0m         \u001b[38;5;129;01mand\u001b[39;00m \u001b[38;5;28many\u001b[39m(\u001b[38;5;28misinstance\u001b[39m(x, \u001b[38;5;28mslice\u001b[39m) \u001b[38;5;28;01mfor\u001b[39;00m x \u001b[38;5;129;01min\u001b[39;00m casted_key)\n\u001b[0;32m   3810\u001b[0m     ):\n\u001b[0;32m   3811\u001b[0m         \u001b[38;5;28;01mraise\u001b[39;00m InvalidIndexError(key)\n\u001b[1;32m-> 3812\u001b[0m     \u001b[38;5;28;01mraise\u001b[39;00m \u001b[38;5;167;01mKeyError\u001b[39;00m(key) \u001b[38;5;28;01mfrom\u001b[39;00m \u001b[38;5;21;01merr\u001b[39;00m\n\u001b[0;32m   3813\u001b[0m \u001b[38;5;28;01mexcept\u001b[39;00m \u001b[38;5;167;01mTypeError\u001b[39;00m:\n\u001b[0;32m   3814\u001b[0m     \u001b[38;5;66;03m# If we have a listlike key, _check_indexing_error will raise\u001b[39;00m\n\u001b[0;32m   3815\u001b[0m     \u001b[38;5;66;03m#  InvalidIndexError. Otherwise we fall through and re-raise\u001b[39;00m\n\u001b[0;32m   3816\u001b[0m     \u001b[38;5;66;03m#  the TypeError.\u001b[39;00m\n\u001b[0;32m   3817\u001b[0m     \u001b[38;5;28mself\u001b[39m\u001b[38;5;241m.\u001b[39m_check_indexing_error(key)\n",
      "\u001b[1;31mKeyError\u001b[0m: 'TP_ST_CONCLUSAO'"
     ]
    }
   ],
   "source": [
    "# Apenas quem irá concluir o EM no ano da prova que informou o tipo de escola. \n",
    "# Por isso nesse df analisaremos o impacto do tipo de escola na nota final.\n",
    "# pública = 0 e privada = 1\n",
    "df22_2 = df22.copy()\n",
    "df22_2 = df22[df22['TP_ST_CONCLUSAO']==2]\n",
    "df22_2.loc[:, 'TP_ESCOLA'] = df22['TP_ESCOLA'] - 2"
   ]
  },
  {
   "cell_type": "code",
   "execution_count": null,
   "metadata": {},
   "outputs": [],
   "source": [
    "# Pessoas que já se formaram nao identificaram o tipo de escola que estudaram (se publica ou privada).\n",
    "# Logo criamos um df para podermos verificar se a quantidade de tempo desde que ela concluiu o EM influenciou no seu resultado\n",
    "df22 = df22[df22['TP_ST_CONCLUSAO']==1]"
   ]
  },
  {
   "cell_type": "code",
   "execution_count": null,
   "metadata": {},
   "outputs": [],
   "source": [
    "# removemos a coluna do status de conclusao no DFs 1 e 2\n",
    "df22 = df22.drop('TP_ST_CONCLUSAO',axis=1)\n",
    "df22_2 = df22_2.drop('TP_ST_CONCLUSAO',axis=1)"
   ]
  },
  {
   "cell_type": "code",
   "execution_count": null,
   "metadata": {},
   "outputs": [],
   "source": [
    "# removemos a coluna de ano de conclusão do DF 2\n",
    "df22_2 = df22_2.drop('TP_ANO_CONCLUIU',axis=1)"
   ]
  },
  {
   "cell_type": "code",
   "execution_count": null,
   "metadata": {},
   "outputs": [],
   "source": [
    "# removemos a coluna do tipo de escola do DF 1\n",
    "df22 = df22.drop('TP_ESCOLA',axis=1)\n"
   ]
  },
  {
   "cell_type": "code",
   "execution_count": null,
   "metadata": {},
   "outputs": [
    {
     "name": "stdout",
     "output_type": "stream",
     "text": [
      "         NU_ANO  TP_FAIXA_ETARIA  TP_SEXO  TP_ANO_CONCLUIU  NU_NOTA_COMP3  \\\n",
      "2          2022                5        0                2          120.0   \n",
      "3          2022                6        1                2           40.0   \n",
      "7          2022                6        0                0           80.0   \n",
      "9          2022                4        0                1           80.0   \n",
      "18         2022                8        0                5          160.0   \n",
      "...         ...              ...      ...              ...            ...   \n",
      "3476081    2022                7        1                4          120.0   \n",
      "3476082    2022               12        1               16          100.0   \n",
      "3476095    2022               12        1                7          120.0   \n",
      "3476097    2022               11        0               11          160.0   \n",
      "3476099    2022               11        0               11          100.0   \n",
      "\n",
      "        Q001 Q002 Q003 Q004  Q005  ... TP_COR_RACA_3 TP_COR_RACA_4  \\\n",
      "2          E    F    A    D     2  ...         False         False   \n",
      "3          C    A    A    B     3  ...          True         False   \n",
      "7          E    E    B    B     5  ...         False         False   \n",
      "9          E    E    B    B     2  ...          True         False   \n",
      "18         B    F    A    D     6  ...         False         False   \n",
      "...      ...  ...  ...  ...   ...  ...           ...           ...   \n",
      "3476081    E    E    D    F     3  ...          True         False   \n",
      "3476082    C    D    F    B     3  ...          True         False   \n",
      "3476095    E    E    C    C     4  ...         False         False   \n",
      "3476097    H    C    F    C     1  ...         False         False   \n",
      "3476099    C    B    B    B     3  ...         False         False   \n",
      "\n",
      "        TP_COR_RACA_5  CAPITAL  Regiao_Centro-Oeste  Regiao_Nordeste  \\\n",
      "2               False        0                False             True   \n",
      "3               False        0                False            False   \n",
      "7               False        0                False            False   \n",
      "9               False        0                False             True   \n",
      "18              False        0                False            False   \n",
      "...               ...      ...                  ...              ...   \n",
      "3476081         False        1                False            False   \n",
      "3476082         False        1                False            False   \n",
      "3476095         False        1                False            False   \n",
      "3476097         False        0                False            False   \n",
      "3476099         False        1                False            False   \n",
      "\n",
      "         Regiao_Norte  Regiao_Sudeste  Regiao_Sul  faixa_renda_por_pessoa  \n",
      "2               False           False       False                       B  \n",
      "3               False            True       False                       A  \n",
      "7               False            True       False                       B  \n",
      "9               False           False       False                       B  \n",
      "18              False            True       False                       B  \n",
      "...               ...             ...         ...                     ...  \n",
      "3476081          True           False       False                       B  \n",
      "3476082         False           False        True                       C  \n",
      "3476095          True           False       False                       B  \n",
      "3476097         False            True       False                       D  \n",
      "3476099         False           False        True                       B  \n",
      "\n",
      "[932336 rows x 29 columns]\n",
      "---------------------------------------\n",
      "         NU_ANO  TP_FAIXA_ETARIA  TP_SEXO  TP_ESCOLA  NU_NOTA_COMP3 Q001 Q002  \\\n",
      "11         2022                2        0          1          180.0    E    E   \n",
      "40         2022                5        0          0          100.0    C    D   \n",
      "43         2022                4        0          0          120.0    D    D   \n",
      "45         2022                7        1          0          100.0    B    B   \n",
      "55         2022                3        0          0          160.0    D    F   \n",
      "...         ...              ...      ...        ...            ...  ...  ...   \n",
      "3476063    2022                2        1          0          120.0    F    A   \n",
      "3476070    2022                2        0          1          100.0    F    E   \n",
      "3476086    2022                2        1          0          100.0    D    E   \n",
      "3476093    2022                3        0          0          120.0    E    F   \n",
      "3476102    2022                2        1          0          140.0    E    C   \n",
      "\n",
      "        Q003 Q004  Q005  ... TP_COR_RACA_3 TP_COR_RACA_4 TP_COR_RACA_5  \\\n",
      "11         B    A     4  ...         False         False         False   \n",
      "40         C    B     4  ...          True         False         False   \n",
      "43         B    C     4  ...         False         False         False   \n",
      "45         A    A     2  ...          True         False         False   \n",
      "55         B    D     4  ...         False         False         False   \n",
      "...      ...  ...   ...  ...           ...           ...           ...   \n",
      "3476063    D    D     5  ...         False         False         False   \n",
      "3476070    A    B     3  ...          True         False         False   \n",
      "3476086    C    C     3  ...         False         False         False   \n",
      "3476093    C    D     4  ...         False         False         False   \n",
      "3476102    C    B     4  ...         False         False         False   \n",
      "\n",
      "         CAPITAL  Regiao_Centro-Oeste  Regiao_Nordeste  Regiao_Norte  \\\n",
      "11             0                False             True         False   \n",
      "40             0                False             True         False   \n",
      "43             1                 True            False         False   \n",
      "45             0                False            False          True   \n",
      "55             0                False            False         False   \n",
      "...          ...                  ...              ...           ...   \n",
      "3476063        1                False            False         False   \n",
      "3476070        1                False            False         False   \n",
      "3476086        0                False            False         False   \n",
      "3476093        0                False            False         False   \n",
      "3476102        0                False            False         False   \n",
      "\n",
      "         Regiao_Sudeste  Regiao_Sul  faixa_renda_por_pessoa  \n",
      "11                False       False                       B  \n",
      "40                False       False                       B  \n",
      "43                False       False                       B  \n",
      "45                False       False                       B  \n",
      "55                 True       False                       B  \n",
      "...                 ...         ...                     ...  \n",
      "3476063            True       False                       B  \n",
      "3476070            True       False                       B  \n",
      "3476086           False        True                       B  \n",
      "3476093            True       False                       B  \n",
      "3476102           False        True                       B  \n",
      "\n",
      "[906889 rows x 29 columns]\n"
     ]
    }
   ],
   "source": [
    "print(df22)\n",
    "print(\"---------------------------------------\")\n",
    "print(df22_2)"
   ]
  }
 ],
 "metadata": {
  "kernelspec": {
   "display_name": "Python 3",
   "language": "python",
   "name": "python3"
  },
  "language_info": {
   "codemirror_mode": {
    "name": "ipython",
    "version": 3
   },
   "file_extension": ".py",
   "mimetype": "text/x-python",
   "name": "python",
   "nbconvert_exporter": "python",
   "pygments_lexer": "ipython3",
   "version": "3.10.11"
  }
 },
 "nbformat": 4,
 "nbformat_minor": 2
}
